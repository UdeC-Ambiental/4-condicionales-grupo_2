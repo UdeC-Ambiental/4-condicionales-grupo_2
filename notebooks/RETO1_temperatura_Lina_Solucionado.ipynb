{
 "cells": [
  {
   "cell_type": "markdown",
   "id": "1684cfdf",
   "metadata": {},
   "source": [
    "# 🧩 Reto 1 – Temperatura\n",
    "**Objetivo:** clasificar la temperatura del agua y evaluar posible estrés térmico.\n",
    "\n",
    "**Datos:** `../data/muestras_calidad_agua.csv`"
   ]
  },
  {
   "cell_type": "markdown",
   "id": "e6e3ba75",
   "metadata": {},
   "source": [
    "### Pasos\n",
    "1. Carga el CSV en `df`.\n",
    "2. Extrae `sitio` y `temperatura` en `df_temp`.\n",
    "3. Crea `categoria_temp` con np.where o .loc.\n",
    "4. Crea `riesgo_termico`.\n",
    "5. Filtra a `df_caliente` (alta temperatura).\n",
    "6. Exporta `resultado_temperatura.csv`.\n",
    "\n",
    "> **Reto adicional:** porcentaje de sitios con riesgo térmico."
   ]
  },
  {
   "cell_type": "code",
   "execution_count": 1,
   "id": "53b99ed5-8e41-44ba-b239-079e4f0b5b2a",
   "metadata": {},
   "outputs": [
    {
     "name": "stdout",
     "output_type": "stream",
     "text": [
      "Tabla de datos:\n",
      "                           sitio  temperatura\n",
      "0                 Río Subachoque         18.5\n",
      "1    Quebrada Honda (Facatativá)         19.4\n",
      "2           Río Botello (Madrid)         22.7\n",
      "3   Afluente San José (El Rosal)         20.1\n",
      "4                    Río Villeta         28.3\n",
      "5  Quebrada Cune (San Francisco)         25.2\n",
      "6            Río Tobia (Nocaima)         26.9\n",
      "7       Quebrada Negra (La Vega)         24.4\n",
      "8          Río Bahamón (Sasaima)         27.6\n",
      "9        Río Guayuriba (La Mesa)         30.5\n"
     ]
    }
   ],
   "source": [
    "#Importar librerias\n",
    "import pandas as pd\n",
    "import numpy as np\n",
    "\n",
    "#cargar archivo csv\n",
    "df = pd.read_csv('muestras_calidad_agua.csv')\n",
    "\n",
    "#seleccionar sitios y temperaturas. dejé copy para que el programa no genere advertencia\n",
    "df_temp = df[['sitio', 'temperatura']].copy()\n",
    "print(\"Tabla de datos:\")\n",
    "print(df_temp)"
   ]
  },
  {
   "cell_type": "code",
   "execution_count": 2,
   "id": "e4f4a592-8525-48c5-bff3-713d5ce27939",
   "metadata": {},
   "outputs": [
    {
     "name": "stdout",
     "output_type": "stream",
     "text": [
      "categoria_temp:\n",
      "                           sitio  temperatura categoria_temp\n",
      "0                 Río Subachoque         18.5         Optima\n",
      "1    Quebrada Honda (Facatativá)         19.4         Optima\n",
      "2           Río Botello (Madrid)         22.7      Aceptable\n",
      "3   Afluente San José (El Rosal)         20.1      Aceptable\n",
      "4                    Río Villeta         28.3           Alta\n",
      "5  Quebrada Cune (San Francisco)         25.2           Alta\n",
      "6            Río Tobia (Nocaima)         26.9           Alta\n",
      "7       Quebrada Negra (La Vega)         24.4      Aceptable\n",
      "8          Río Bahamón (Sasaima)         27.6           Alta\n",
      "9        Río Guayuriba (La Mesa)         30.5           Alta\n"
     ]
    }
   ],
   "source": [
    "#creaccion de las categorias de la temperatura con np.where\n",
    "df_temp['categoria_temp'] = np.where(\n",
    "    df_temp['temperatura'] <=20, 'Optima',\n",
    "    np.where(df_temp['temperatura'] <= 25, 'Aceptable', 'Alta')\n",
    ")\n",
    "print(\"categoria_temp:\")\n",
    "print(df_temp)"
   ]
  },
  {
   "cell_type": "code",
   "execution_count": 3,
   "id": "45a74101-480b-449e-aeab-3e8af0658762",
   "metadata": {},
   "outputs": [
    {
     "name": "stdout",
     "output_type": "stream",
     "text": [
      "riesgo_termico\n",
      "sitios con alta temperatura: 5\n",
      "                           sitio  temperatura categoria_temp riesgo_termico\n",
      "0                 Río Subachoque         18.5         Optima             No\n",
      "1    Quebrada Honda (Facatativá)         19.4         Optima             No\n",
      "2           Río Botello (Madrid)         22.7      Aceptable             No\n",
      "3   Afluente San José (El Rosal)         20.1      Aceptable             No\n",
      "4                    Río Villeta         28.3           Alta             Si\n",
      "5  Quebrada Cune (San Francisco)         25.2           Alta             Si\n",
      "6            Río Tobia (Nocaima)         26.9           Alta             Si\n",
      "7       Quebrada Negra (La Vega)         24.4      Aceptable             No\n",
      "8          Río Bahamón (Sasaima)         27.6           Alta             Si\n",
      "9        Río Guayuriba (La Mesa)         30.5           Alta             Si\n"
     ]
    }
   ],
   "source": [
    "#Para riesgo térmico de cada sitio\n",
    "df_temp['riesgo_termico'] = np.where(df_temp['temperatura'] > 25, 'Si', 'No')\n",
    "\n",
    "#para fiutrar las temperaturas altas\n",
    "df_caliente = df_temp[df_temp['categoria_temp'] == 'Alta']\n",
    "print(\"riesgo_termico\")\n",
    "print(f\"sitios con alta temperatura: {len(df_caliente)}\")\n",
    "print(df_temp)"
   ]
  },
  {
   "cell_type": "code",
   "execution_count": 4,
   "id": "e86509b7-140c-437e-8042-700f9c619bad",
   "metadata": {},
   "outputs": [
    {
     "name": "stdout",
     "output_type": "stream",
     "text": [
      "porcentaje con riesgo termico: 50.0%\n",
      "                           sitio  temperatura categoria_temp riesgo_termico\n",
      "0                 Río Subachoque         18.5         Optima             No\n",
      "1    Quebrada Honda (Facatativá)         19.4         Optima             No\n",
      "2           Río Botello (Madrid)         22.7      Aceptable             No\n",
      "3   Afluente San José (El Rosal)         20.1      Aceptable             No\n",
      "4                    Río Villeta         28.3           Alta             Si\n",
      "5  Quebrada Cune (San Francisco)         25.2           Alta             Si\n",
      "6            Río Tobia (Nocaima)         26.9           Alta             Si\n",
      "7       Quebrada Negra (La Vega)         24.4      Aceptable             No\n",
      "8          Río Bahamón (Sasaima)         27.6           Alta             Si\n",
      "9        Río Guayuriba (La Mesa)         30.5           Alta             Si\n"
     ]
    }
   ],
   "source": [
    "#Reto ad: agregar los % de los sitios con riesgo térmico\n",
    "total_sitios= len(df_temp)\n",
    "sitios_con_riesgo = len(df_temp[df_temp['riesgo_termico'] == 'Si'])\n",
    "porcentaje_riesgo = (sitios_con_riesgo/total_sitios) * 100\n",
    "print(f\"porcentaje con riesgo termico: {porcentaje_riesgo:.1f}%\") #la f es para interpretar lasa variables dentro de {\n",
    "print(df_temp)"
   ]
  },
  {
   "cell_type": "code",
   "execution_count": 5,
   "id": "f99302c2-0202-4af3-80d6-62c0ec6452fd",
   "metadata": {},
   "outputs": [
    {
     "name": "stdout",
     "output_type": "stream",
     "text": [
      "archivo exportado: 'resultado_temperatura.csv\n"
     ]
    }
   ],
   "source": [
    "#para exportar los resultados en resultado_temperatura.csv\n",
    "df_temp.to_csv('resultado_temperatura.csv', index=False)\n",
    "print(\"archivo exportado: 'resultado_temperatura.csv\")"
   ]
  }
 ],
 "metadata": {
  "kernelspec": {
   "display_name": "anaconda-panel-2023.05-py310",
   "language": "python",
   "name": "conda-env-anaconda-panel-2023.05-py310-py"
  },
  "language_info": {
   "codemirror_mode": {
    "name": "ipython",
    "version": 3
   },
   "file_extension": ".py",
   "mimetype": "text/x-python",
   "name": "python",
   "nbconvert_exporter": "python",
   "pygments_lexer": "ipython3",
   "version": "3.11.5"
  }
 },
 "nbformat": 4,
 "nbformat_minor": 5
}
