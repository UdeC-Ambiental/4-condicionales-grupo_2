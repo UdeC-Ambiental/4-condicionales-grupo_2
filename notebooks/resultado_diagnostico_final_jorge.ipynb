{
 "cells": [
  {
   "cell_type": "code",
   "execution_count": 8,
   "id": "463feb31-7c8c-4e25-a56d-fb3e5f7e88d5",
   "metadata": {},
   "outputs": [
    {
     "name": "stdout",
     "output_type": "stream",
     "text": [
      "tabla de resultados unidos:\n",
      "                           sitio  temperatura categoria_temp riesgo_termico  \\\n",
      "0    Quebrada Honda (Facatativá)         19.4         Optima             No   \n",
      "1                    Río Villeta         28.3           Alta             Si   \n",
      "2  Quebrada Cune (San Francisco)         25.2           Alta             Si   \n",
      "3        Río Guayuriba (La Mesa)         30.5           Alta             Si   \n",
      "\n",
      "    pH clasificacion_pH alerta_quimica  oxigeno nivel_oxigeno riesgo_biologico  \n",
      "0  6.3            Ácido        Revisar      6.2         Medio       sin riesgo  \n",
      "1  8.7           Básico        Revisar      6.1         Medio       sin riesgo  \n",
      "2  6.0            Ácido        Revisar      4.5         Medio           riesgo  \n",
      "3  5.9            Ácido        Revisar      4.8         Medio           riesgo  \n"
     ]
    }
   ],
   "source": [
    "import pandas as pd\n",
    "temp = pd.read_csv('resultado_temperatura.csv')\n",
    "ph = pd.read_csv('resultado_ph.csv')\n",
    "ox = pd.read_csv('resultado_oxigeno.csv')\n",
    "df_tabla_unida = temp.merge(ph, on=\"sitio\").merge(ox, on=\"sitio\")\n",
    "print(\"tabla de resultados unidos:\")\n",
    "print(df_tabla_unida)"
   ]
  },
  {
   "cell_type": "code",
   "execution_count": 10,
   "id": "6025b0d5-811a-419c-9523-8a28c420cb05",
   "metadata": {},
   "outputs": [
    {
     "data": {
      "text/html": [
       "<div>\n",
       "<style scoped>\n",
       "    .dataframe tbody tr th:only-of-type {\n",
       "        vertical-align: middle;\n",
       "    }\n",
       "\n",
       "    .dataframe tbody tr th {\n",
       "        vertical-align: top;\n",
       "    }\n",
       "\n",
       "    .dataframe thead th {\n",
       "        text-align: right;\n",
       "    }\n",
       "</style>\n",
       "<table border=\"1\" class=\"dataframe\">\n",
       "  <thead>\n",
       "    <tr style=\"text-align: right;\">\n",
       "      <th></th>\n",
       "      <th>sitio</th>\n",
       "      <th>temperatura</th>\n",
       "      <th>categoria_temp</th>\n",
       "      <th>riesgo_termico</th>\n",
       "      <th>pH</th>\n",
       "      <th>clasificacion_pH</th>\n",
       "      <th>alerta_quimica</th>\n",
       "      <th>oxigeno</th>\n",
       "      <th>nivel_oxigeno</th>\n",
       "      <th>riesgo_biologico</th>\n",
       "      <th>diagnostico_final</th>\n",
       "    </tr>\n",
       "  </thead>\n",
       "  <tbody>\n",
       "    <tr>\n",
       "      <th>0</th>\n",
       "      <td>Quebrada Honda (Facatativá)</td>\n",
       "      <td>19.4</td>\n",
       "      <td>Optima</td>\n",
       "      <td>No</td>\n",
       "      <td>6.3</td>\n",
       "      <td>Ácido</td>\n",
       "      <td>Revisar</td>\n",
       "      <td>6.2</td>\n",
       "      <td>Medio</td>\n",
       "      <td>sin riesgo</td>\n",
       "      <td>normal</td>\n",
       "    </tr>\n",
       "    <tr>\n",
       "      <th>1</th>\n",
       "      <td>Río Villeta</td>\n",
       "      <td>28.3</td>\n",
       "      <td>Alta</td>\n",
       "      <td>Si</td>\n",
       "      <td>8.7</td>\n",
       "      <td>Básico</td>\n",
       "      <td>Revisar</td>\n",
       "      <td>6.1</td>\n",
       "      <td>Medio</td>\n",
       "      <td>sin riesgo</td>\n",
       "      <td>normal</td>\n",
       "    </tr>\n",
       "    <tr>\n",
       "      <th>2</th>\n",
       "      <td>Quebrada Cune (San Francisco)</td>\n",
       "      <td>25.2</td>\n",
       "      <td>Alta</td>\n",
       "      <td>Si</td>\n",
       "      <td>6.0</td>\n",
       "      <td>Ácido</td>\n",
       "      <td>Revisar</td>\n",
       "      <td>4.5</td>\n",
       "      <td>Medio</td>\n",
       "      <td>riesgo</td>\n",
       "      <td>normal</td>\n",
       "    </tr>\n",
       "    <tr>\n",
       "      <th>3</th>\n",
       "      <td>Río Guayuriba (La Mesa)</td>\n",
       "      <td>30.5</td>\n",
       "      <td>Alta</td>\n",
       "      <td>Si</td>\n",
       "      <td>5.9</td>\n",
       "      <td>Ácido</td>\n",
       "      <td>Revisar</td>\n",
       "      <td>4.8</td>\n",
       "      <td>Medio</td>\n",
       "      <td>riesgo</td>\n",
       "      <td>normal</td>\n",
       "    </tr>\n",
       "  </tbody>\n",
       "</table>\n",
       "</div>"
      ],
      "text/plain": [
       "                           sitio  temperatura categoria_temp riesgo_termico  \\\n",
       "0    Quebrada Honda (Facatativá)         19.4         Optima             No   \n",
       "1                    Río Villeta         28.3           Alta             Si   \n",
       "2  Quebrada Cune (San Francisco)         25.2           Alta             Si   \n",
       "3        Río Guayuriba (La Mesa)         30.5           Alta             Si   \n",
       "\n",
       "    pH clasificacion_pH alerta_quimica  oxigeno nivel_oxigeno  \\\n",
       "0  6.3            Ácido        Revisar      6.2         Medio   \n",
       "1  8.7           Básico        Revisar      6.1         Medio   \n",
       "2  6.0            Ácido        Revisar      4.5         Medio   \n",
       "3  5.9            Ácido        Revisar      4.8         Medio   \n",
       "\n",
       "  riesgo_biologico diagnostico_final  \n",
       "0       sin riesgo            normal  \n",
       "1       sin riesgo            normal  \n",
       "2           riesgo            normal  \n",
       "3           riesgo            normal  "
      ]
     },
     "execution_count": 10,
     "metadata": {},
     "output_type": "execute_result"
    }
   ],
   "source": [
    "df = df_tabla_unida\n",
    "\n",
    "def diagnostico(row):\n",
    "    if 'malo' in [row['riesgo_termico'], row['alerta_quimica'], row['riesgo_biologico']]:\n",
    "        return 'total'\n",
    "    elif 'parcial' in [row['riesgo_termico'], row['alerta_quimica'], row['riesgo_biologico']]:\n",
    "        return 'parcial'\n",
    "    else:\n",
    "        return 'normal'\n",
    "\n",
    "df[\"diagnostico_final\"] = df.apply(diagnostico, axis=1)\n",
    "df.head()\n"
   ]
  },
  {
   "cell_type": "code",
   "execution_count": 14,
   "id": "02535037-6846-447d-b30c-0bc528e8932b",
   "metadata": {},
   "outputs": [
    {
     "name": "stdout",
     "output_type": "stream",
     "text": [
      "Archivo 'diagnostico_final.csv' exportado correctamente.\n"
     ]
    }
   ],
   "source": [
    "df.to_csv(\"diagnostico_final.csv\", index=False, encoding=\"utf-8\")\n",
    "print(\"Archivo 'diagnostico_final.csv' exportado correctamente.\")\n",
    "\n"
   ]
  },
  {
   "cell_type": "code",
   "execution_count": 51,
   "id": "337905c0-aafa-4384-b74d-fc7f4d1d150c",
   "metadata": {},
   "outputs": [
    {
     "name": "stdout",
     "output_type": "stream",
     "text": [
      "Conteo de categorías:\n",
      "diagnostico_final\n",
      "normal    4\n",
      "Name: count, dtype: int64\n"
     ]
    }
   ],
   "source": [
    "conteo = df[\"diagnostico_final\"].value_counts()\n",
    "print(\"Conteo de categorías:\")\n",
    "print(conteo)\n"
   ]
  },
  {
   "cell_type": "code",
   "execution_count": 53,
   "id": "3395692b-1100-4b8f-857c-da824d9c572b",
   "metadata": {},
   "outputs": [
    {
     "data": {
      "image/png": "[encoded data removed]",
      "text/plain": [
       "<Figure size 640x480 with 1 Axes>"
      ]
     },
     "metadata": {},
     "output_type": "display_data"
    }
   ],
   "source": [
    "import matplotlib.pyplot as plt\n",
    "\n",
    "conteo.plot(kind='bar', color=['green', 'orange', 'red'])\n",
    "plt.title(\"Distribución de Diagnósticos Finales\")\n",
    "plt.xlabel(\"Categoría de Diagnóstico\")\n",
    "plt.ylabel(\"Frecuencia\")\n",
    "plt.xticks(rotation=0)\n",
    "plt.show()\n"
   ]
  },
  {
   "cell_type": "code",
   "execution_count": 16,
   "id": "cf6f396a-1461-4aec-829b-73a5f93c1a8b",
   "metadata": {},
   "outputs": [
    {
     "name": "stdout",
     "output_type": "stream",
     "text": [
      "Archivo 'resultado_diagnostico_final.csv' exportado correctamente.\n"
     ]
    }
   ],
   "source": [
    "# Exportar el DataFrame con el diagnóstico final a un archivo CSV\n",
    "df.to_csv('resultado_diagnostico_final.csv', index=False, encoding='utf-8')\n",
    "\n",
    "print(\"Archivo 'resultado_diagnostico_final.csv' exportado correctamente.\")\n"
   ]
  },
  {
   "cell_type": "code",
   "execution_count": null,
   "id": "1be29ac6-1936-49a5-9f99-af6103e306b3",
   "metadata": {},
   "outputs": [],
   "source": []
  }
 ],
 "metadata": {
  "kernelspec": {
   "display_name": "Python 3 (ipykernel)",
   "language": "python",
   "name": "python3"
  },
  "language_info": {
   "codemirror_mode": {
    "name": "ipython",
    "version": 3
   },
   "file_extension": ".py",
   "mimetype": "text/x-python",
   "name": "python",
   "nbconvert_exporter": "python",
   "pygments_lexer": "ipython3",
   "version": "3.12.4"
  }
 },
 "nbformat": 4,
 "nbformat_minor": 5
}
