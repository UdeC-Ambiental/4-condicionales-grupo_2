{
 "cells": [
  {
   "cell_type": "markdown",
   "id": "c6d443bd",
   "metadata": {},
   "source": [
    "# 🧩 Reto 4 – Integración de resultados\n",
    "**Objetivo:** combinar resultados parciales en un diagnóstico integral por sitio."
   ]
  },
  {
   "cell_type": "markdown",
   "id": "bf7c477e",
   "metadata": {},
   "source": [
    "### Pasos\n",
    "1. Carga `resultado_temperatura.csv`, `resultado_ph.csv`, `resultado_oxigeno.csv`.\n",
    "2. Únelos por `sitio` usando `merge`.\n",
    "3. Crea `diagnostico_final` con reglas (parcial/total/normal).\n",
    "4. Exporta `diagnostico_final.csv`.\n",
    "5. Cuenta categorías con `value_counts()`.\n",
    "\n",
    "> **Reto adicional:** gráfico de barras de distribución."
   ]
  },
  {
   "cell_type": "code",
   "execution_count": 17,
   "id": "70edc264-0cfa-4318-92e0-e1e93ae78238",
   "metadata": {},
   "outputs": [],
   "source": [
    "# --- Paso 1: Importar librerías ---\n",
    "import pandas as pd\n",
    "\n",
    "# --- Paso 2: Cargar los tres resultados ---\n",
    "temp = pd.read_csv(\"data/resultado_temperatura.csv\")\n",
    "ph = pd.read_csv(\"data/resultado_ph.csv\")\n",
    "ox = pd.read_csv(\"data/resultado_oxigeno.csv\")\n",
    "\n",
    "# --- Paso 3: Unir los tres archivos por la columna 'sitio' ---\n",
    "df = temp.merge(ph, on=\"sitio\").merge(ox, on=\"sitio\")\n",
    "\n",
    "# --- Paso 4: Crear la función de diagnóstico final ---\n",
    "def Diagnostico_final(row):\n",
    "    # Si hay algún tipo de riesgo químico, biológico o térmico\n",
    "    if row[\"riesgo_termico\"] == \"Si\" or row[\"alerta_quimica\"] == \"Revisar\" or row[\"riesgo_biologico\"] == \"riesgo\":\n",
    "        return \"Parcial\"\n",
    "    \n",
    "    # Si no hay riesgos en ninguna categoría\n",
    "    elif row[\"riesgo_termico\"] == \"No\" and row[\"alerta_quimica\"] != \"Revisar\" and row[\"riesgo_biologico\"] == \"sin riesgo\":\n",
    "        return \"Normal\"\n",
    "    \n",
    "    # En cualquier otro caso\n",
    "    else:\n",
    "        return \"Total\"\n",
    "\n",
    "# --- Paso 5: Aplicar la función al DataFrame ---\n",
    "df[\"diagnostico_final\"] = df.apply(Diagnostico_final, axis=1)\n"
   ]
  },
  {
   "cell_type": "code",
   "execution_count": 18,
   "id": "f26b7fa2-62d2-4e4b-b699-9a436bb8f09d",
   "metadata": {},
   "outputs": [],
   "source": [
    "# --- Paso 6: Exportar el resultado a un nuevo archivo CSV ---\n",
    "df.to_csv(\"data/diagnostico_final.csv\", index=False)"
   ]
  },
  {
   "cell_type": "code",
   "execution_count": 19,
   "id": "ed7a06b6-9116-4b26-aeed-4c3b403cc14f",
   "metadata": {},
   "outputs": [
    {
     "name": "stdout",
     "output_type": "stream",
     "text": [
      "Diagnóstico final generado con éxito\n",
      "                           sitio  temperatura categoria_temp riesgo_termico  \\\n",
      "0    Quebrada Honda (Facatativá)         19.4         Optima             No   \n",
      "1                    Río Villeta         28.3           Alta             Si   \n",
      "2  Quebrada Cune (San Francisco)         25.2           Alta             Si   \n",
      "3        Río Guayuriba (La Mesa)         30.5           Alta             Si   \n",
      "\n",
      "    pH clasificacion_pH alerta_quimica  oxigeno nivel_oxigeno  \\\n",
      "0  6.3            Ácido        Revisar      6.2         Medio   \n",
      "1  8.7           Básico        Revisar      6.1         Medio   \n",
      "2  6.0            Ácido        Revisar      4.5         Medio   \n",
      "3  5.9            Ácido        Revisar      4.8         Medio   \n",
      "\n",
      "  riesgo_biologico diagnostico_final  \n",
      "0       sin riesgo           Parcial  \n",
      "1       sin riesgo           Parcial  \n",
      "2           riesgo           Parcial  \n",
      "3           riesgo           Parcial  \n"
     ]
    }
   ],
   "source": [
    "print(\"Diagnóstico final generado con éxito\")\n",
    "print(df.head())"
   ]
  },
  {
   "cell_type": "code",
   "execution_count": 24,
   "id": "04e399f0-9f01-4201-b008-cb4badea02c7",
   "metadata": {},
   "outputs": [
    {
     "name": "stdout",
     "output_type": "stream",
     "text": [
      "\n",
      "Conteo de categorías:\n",
      "diagnostico_final\n",
      "Parcial    4\n",
      "Name: count, dtype: int64\n"
     ]
    },
    {
     "data": {
      "image/png": "[encoded data removed]",
      "text/plain": [
       "<Figure size 640x480 with 1 Axes>"
      ]
     },
     "metadata": {},
     "output_type": "display_data"
    },
    {
     "name": "stdout",
     "output_type": "stream",
     "text": [
      "\n",
      "--- CONCLUSIÓN ---\n",
      "La mayoría de los sitios presentan un diagnóstico 'Parcial', lo que indica que existen alertas o riesgos en al menos una de las variables analizadas.\n",
      "Se recomienda revisar los parámetros de temperatura, pH y oxígeno para mejorar la calidad ambiental general.\n"
     ]
    }
   ],
   "source": [
    "# --- Paso 8 (Reto adicional): Contar categorías ---\n",
    "conteo = df[\"diagnostico_final\"].value_counts()\n",
    "print(\"\\nConteo de categorías:\")\n",
    "print(conteo)\n",
    "\n",
    "# --- Paso 9 (Reto adicional): Gráfico de barras ---\n",
    "conteo.plot(kind=\"bar\", title=\"Distribución de diagnósticos finales\", color=[\"skyblue\"])\n",
    "plt.xlabel(\"Tipo de diagnóstico\")\n",
    "plt.ylabel(\"Cantidad de sitios\")\n",
    "plt.grid(axis=\"y\", linestyle=\"--\", alpha=0.7)\n",
    "plt.show()\n",
    "\n",
    "# --- Paso 9: Conclusión ---\n",
    "print(\"\\n--- CONCLUSIÓN ---\")\n",
    "print(\"La mayoría de los sitios presentan un diagnóstico 'Parcial', lo que indica que existen alertas o riesgos en al menos una de las variables analizadas.\")\n",
    "print(\"Se recomienda revisar los parámetros de temperatura, pH y oxígeno para mejorar la calidad ambiental general.\")"
   ]
  }
 ],
 "metadata": {
  "kernelspec": {
   "display_name": "anaconda-2024.02-py310",
   "language": "python",
   "name": "conda-env-anaconda-2024.02-py310-py"
  },
  "language_info": {
   "codemirror_mode": {
    "name": "ipython",
    "version": 3
   },
   "file_extension": ".py",
   "mimetype": "text/x-python",
   "name": "python",
   "nbconvert_exporter": "python",
   "pygments_lexer": "ipython3",
   "version": "3.10.14"
  }
 },
 "nbformat": 4,
 "nbformat_minor": 5
}
